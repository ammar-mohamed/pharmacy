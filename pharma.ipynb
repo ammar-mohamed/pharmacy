{
 "cells": [
  {
   "cell_type": "code",
   "execution_count": null,
   "id": "bb446e8a",
   "metadata": {},
   "outputs": [],
   "source": [
    "\n",
    "from sklearn import metrics\n",
    "import math\n",
    "import matplotlib.pyplot as plt\n",
    "from matplotlib.ticker import MaxNLocator\n",
    "import pandas as pd\n",
    "import numpy as np\n",
    "import os\n",
    "import numpy as np\n",
    "from numpy import argmax\n",
    "from numpy import mean\n",
    "import pandas as pd \n",
    "from sklearn.model_selection import train_test_split\n",
    "from sklearn.model_selection import cross_val_score\n",
    "from sklearn.metrics import accuracy_score\n",
    "from sklearn.model_selection import RepeatedKFold\n",
    "from sklearn.model_selection import RepeatedStratifiedKFold\n",
    "from sklearn.linear_model import LogisticRegression\n",
    "from sklearn.ensemble import GradientBoostingClassifier\n",
    "from sklearn.neighbors import KNeighborsClassifier\n",
    "from sklearn.naive_bayes import GaussianNB\n",
    "from sklearn.tree import DecisionTreeClassifier\n",
    "from sklearn.ensemble import RandomForestClassifier\n",
    "from sklearn import svm\n",
    "from sklearn.preprocessing import LabelEncoder"
   ]
  },
  {
   "cell_type": "code",
   "execution_count": null,
   "id": "cad07873",
   "metadata": {},
   "outputs": [],
   "source": [
    "filenames=['set7P2_AI.csv'] \n",
    "file=filenames[0]\n",
    "print(file)\n",
    "df1 = pd.read_csv(file,header=None)\n",
    "\n",
    "#check for null\n",
    "print(df1.shape)\n",
    "df1.head(5)\n",
    "df1=df1.dropna()"
   ]
  },
  {
   "cell_type": "code",
   "execution_count": null,
   "id": "1d98ea11",
   "metadata": {},
   "outputs": [],
   "source": [
    "Myarray=df1.values\n",
    "np.random.shuffle(Myarray)\n",
    "Z=Myarray[:,-1]\n",
    "my_set = set(Z)\n",
    "labelencoder = LabelEncoder()\n",
    "Y=labelencoder.fit_transform(Z)\n",
    "X=Myarray[:,:-1]\n",
    "print(X.shape)\n",
    "print(Y.shape)\n",
    "my_set"
   ]
  },
  {
   "cell_type": "code",
   "execution_count": null,
   "id": "8eea30de",
   "metadata": {},
   "outputs": [],
   "source": [
    "from numpy import cov\n",
    "import numpy as np\n",
    "import matplotlib.pyplot as plt\n",
    "import matplotlib.pyplot as mp \n",
    "\n",
    "import seaborn as sns\n",
    "import seaborn as sb \n",
    "\n",
    "X=X.astype(float)\n",
    "\n",
    "\n",
    "print(\"Covariance Matrix:\")\n",
    "\n",
    "Matrix = np.corrcoef(X, rowvar=False)\n",
    "np.set_printoptions(suppress=True)  # Suppress scientific notation\n",
    "X_decimal = Matrix.astype(float)\n",
    "\n",
    "\n",
    "ax = plt.subplots(figsize=(12, 10))\n",
    "\n",
    "dataplot = sb.heatmap(X_decimal, cmap=\"YlGnBu\", annot=True) \n",
    "\n",
    "mp.show() \n"
   ]
  },
  {
   "cell_type": "code",
   "execution_count": null,
   "id": "299df2f1",
   "metadata": {},
   "outputs": [],
   "source": [
    "#Create 5 Folds\n",
    "cv = RepeatedStratifiedKFold(n_splits=5, n_repeats=5, random_state=1)\n",
    "#cv = RepeatedStratifiedKFold(n_splits=5,  random_state=1)\n",
    "acc1=[]"
   ]
  },
  {
   "cell_type": "code",
   "execution_count": null,
   "id": "0913d2c7",
   "metadata": {},
   "outputs": [],
   "source": [
    "n_scores = cross_val_score(LG, X, Y, scoring='accuracy', cv=cv, n_jobs=-1, error_score='raise')\n",
    "print('Average Accuracy Split: %.3f' % (mean(n_scores)))\n",
    "acc1.append(mean(n_scores))"
   ]
  },
  {
   "cell_type": "code",
   "execution_count": null,
   "id": "a3f03168",
   "metadata": {},
   "outputs": [],
   "source": [
    "n = cross_val_score(clf, X, Y, scoring='accuracy', cv=cv, n_jobs=-1, error_score='raise')\n",
    "print('Average Accuracy Split: %.3f' % (mean(n)))\n",
    "acc1.append(mean(n))"
   ]
  },
  {
   "cell_type": "code",
   "execution_count": null,
   "id": "348a44cf",
   "metadata": {},
   "outputs": [],
   "source": [
    "NB = GaussianNB()\n",
    "n_scores = cross_val_score(NB, X, Y, scoring='accuracy', cv=cv, n_jobs=-1, error_score='raise')\n",
    "print('Average Accuracy Split: %.3f' % (mean(n_scores)))\n",
    "acc1.append(mean(n_scores))\n"
   ]
  },
  {
   "cell_type": "code",
   "execution_count": null,
   "id": "2cf2cb73",
   "metadata": {},
   "outputs": [],
   "source": [
    "model = GradientBoostingClassifier()\n",
    "cv = RepeatedStratifiedKFold(n_splits=5, n_repeats=5, random_state=1)\n",
    "#cv = RepeatedStratifiedKFold(n_splits=5,  random_state=1)\n",
    "n_scores = cross_val_score(model, X, Y, scoring='accuracy', cv=cv, n_jobs=-1, error_score='raise')\n",
    "print('Average Accuracy Split: %.3f' % (mean(n_scores)))\n",
    "acc1.append(mean(n_scores))"
   ]
  },
  {
   "cell_type": "code",
   "execution_count": null,
   "id": "6ea8c466",
   "metadata": {},
   "outputs": [],
   "source": [
    "models = [GaussianNB(), GradientBoostingClassifier(), svm.SVC(kernel='linear'),LogisticRegression()]\n",
    "names = [\"Gaussian NB\", \"Gradient Boosting\", \"SVM\",\"Logistic Regression\"]\n",
    "for model, name in zip(models, names):\n",
    "    print(name,\" :\")\n",
    "    for score in [\"accuracy\", \"precision\", \"recall\",\"f1\"]:\n",
    "        print(score,\" :\",cross_val_score(model, X, Y,scoring=score, cv=10).mean())\n",
    "    print(\"--------------\")\n",
    "    "
   ]
  },
  {
   "cell_type": "code",
   "execution_count": null,
   "id": "0a24654d",
   "metadata": {},
   "outputs": [],
   "source": [
    "from warnings import simplefilter\n",
    "\n",
    "# ignore all warnings\n",
    "simplefilter(action='ignore')\n",
    "filenames=['set7P2_AI.csv']\n",
    "\n",
    "cols = ['file Name','Model','Accuracy', 'Precision','Sensitivity','F1_score']\n",
    "Allfiles=[]\n",
    "for file in filenames:\n",
    "    fName=\"file :\"+file\n",
    "    print(fName)\n",
    "    print(\"=======\")\n",
    "    df1 = pd.read_csv(file,header=None)\n",
    "    df1=df1.dropna()\n",
    "    Myarray=df1.values\n",
    "    np.random.shuffle(Myarray)\n",
    "    Z=Myarray[:,-1]\n",
    "    labelencoder = LabelEncoder()\n",
    "    Y=labelencoder.fit_transform(Z)\n",
    "    X=Myarray[:,:-1]\n",
    "    \n",
    "    models = [GaussianNB(), GradientBoostingClassifier(), svm.SVC(kernel='linear'),LogisticRegression(verbose=0)]\n",
    "    names = [\"Gaussian NB\", \"Gradient Boosting\", \"SVM\",\"Logistic Regression\"]\n",
    "\n",
    "\n",
    "    for model, name in zip(models, names):\n",
    "        row=[]\n",
    "        row.append(file)\n",
    "        row.append(name)\n",
    "        print(name,\" :\")\n",
    "        for score in [\"accuracy\", \"precision\", \"recall\",\"f1\"]:\n",
    "            r=cross_val_score(model, X, Y,scoring=score, cv=10).mean()\n",
    "            row.append(round(r,3))\n",
    "            print(score,\" :\",round(r,3))\n",
    "        #print(row)\n",
    "        Allfiles.append(row)\n",
    "    \n",
    "    print(\"--------------\")\n",
    "   "
   ]
  },
  {
   "cell_type": "code",
   "execution_count": null,
   "id": "9d36a018",
   "metadata": {},
   "outputs": [],
   "source": [
    "#Save the data\n",
    "Group=3\n",
    "df=pd.DataFrame(Allfiles,columns=['file Name','Model','Accuracy', 'Precision','Sensitivity','F1_score'])\n",
    "df.to_csv('ResultGroup'+str(Group)+'.csv') "
   ]
  },
  {
   "cell_type": "code",
   "execution_count": null,
   "id": "699d7af3",
   "metadata": {},
   "outputs": [],
   "source": [
    "import pandas as pd\n",
    "Group=1\n",
    "df=pd.DataFrame(Allfiles,columns=['file Name','Model','Accuracy', 'Precision','Sensitivity','F1_score'])\n",
    "df.to_csv('ResultGroup'+str(Group)+'.csv') "
   ]
  }
 ],
 "metadata": {
  "kernelspec": {
   "display_name": "Python 3",
   "language": "python",
   "name": "python3"
  },
  "language_info": {
   "codemirror_mode": {
    "name": "ipython",
    "version": 3
   },
   "file_extension": ".py",
   "mimetype": "text/x-python",
   "name": "python",
   "nbconvert_exporter": "python",
   "pygments_lexer": "ipython3",
   "version": "3.8.8"
  }
 },
 "nbformat": 4,
 "nbformat_minor": 5
}
